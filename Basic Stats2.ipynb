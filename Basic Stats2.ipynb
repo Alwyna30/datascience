{
 "cells": [
  {
   "cell_type": "code",
   "execution_count": 1,
   "id": "5d126b6c-c8c3-4740-9859-73c42669a589",
   "metadata": {},
   "outputs": [
    {
     "name": "stdout",
     "output_type": "stream",
     "text": [
      "Sample Mean: 1.24\n",
      "Sample Standard Deviation: 0.193\n",
      "\n",
      "99% Confidence Interval using Sample Std Dev (t-distribution):\n",
      "(1.09, 1.39)\n",
      "\n",
      "99% Confidence Interval using Population Std Dev (z-distribution):\n",
      "(1.11, 1.37)\n"
     ]
    }
   ],
   "source": [
    "import numpy as np\n",
    "from scipy import stats\n",
    "\n",
    "data = [1.13, 1.55, 1.43, 0.92, 1.25, 1.36, 1.32, 0.85, 1.07, 1.48, 1.20, 1.33, 1.18, 1.22, 1.29]\n",
    "\n",
    "n = len(data)\n",
    "\n",
    "mean = np.mean(data)\n",
    "std_dev = np.std(data, ddof=1)  \n",
    "\n",
    "print(f\"Sample Mean: {mean:.2f}\")\n",
    "print(f\"Sample Standard Deviation: {std_dev:.3f}\")\n",
    "\n",
    "# a. 99% Confidence Interval using t-distribution (sample std dev)\n",
    "confidence_level = 0.99\n",
    "alpha = 1 - confidence_level\n",
    "df = n - 1\n",
    "\n",
    "t_critical = stats.t.ppf(1 - alpha/2, df)\n",
    "margin_error_t = t_critical * (std_dev / np.sqrt(n))\n",
    "ci_lower_t = mean - margin_error_t\n",
    "ci_upper_t = mean + margin_error_t\n",
    "\n",
    "print(\"\\n99% Confidence Interval using Sample Std Dev (t-distribution):\")\n",
    "print(f\"({ci_lower_t:.2f}, {ci_upper_t:.2f})\")\n",
    "\n",
    "# b. 99% Confidence Interval using z-distribution (known population std dev)\n",
    "pop_std_dev = 0.2\n",
    "z_critical = stats.norm.ppf(1 - alpha/2)\n",
    "margin_error_z = z_critical * (pop_std_dev / np.sqrt(n))\n",
    "ci_lower_z = mean - margin_error_z\n",
    "ci_upper_z = mean + margin_error_z\n",
    "\n",
    "print(\"\\n99% Confidence Interval using Population Std Dev (z-distribution):\")\n",
    "print(f\"({ci_lower_z:.2f}, {ci_upper_z:.2f})\")\n"
   ]
  },
  {
   "cell_type": "code",
   "execution_count": null,
   "id": "e1edcaea-287c-4f61-91b3-3c24dd3b0bbf",
   "metadata": {},
   "outputs": [],
   "source": []
  }
 ],
 "metadata": {
  "kernelspec": {
   "display_name": "Python 3 (ipykernel)",
   "language": "python",
   "name": "python3"
  },
  "language_info": {
   "codemirror_mode": {
    "name": "ipython",
    "version": 3
   },
   "file_extension": ".py",
   "mimetype": "text/x-python",
   "name": "python",
   "nbconvert_exporter": "python",
   "pygments_lexer": "ipython3",
   "version": "3.11.7"
  }
 },
 "nbformat": 4,
 "nbformat_minor": 5
}
