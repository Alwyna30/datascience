{
 "cells": [
  {
   "cell_type": "code",
   "execution_count": 1,
   "id": "022c7b95-6298-436f-a657-7d0f51c33df1",
   "metadata": {},
   "outputs": [],
   "source": [
    "# Import necessary libraries\n",
    "import pandas as pd\n",
    "import numpy as np\n",
    "from sklearn.preprocessing import StandardScaler, MinMaxScaler, OneHotEncoder, LabelEncoder\n",
    "from sklearn.ensemble import IsolationForest\n",
    "import ppscore as pps\n",
    "import seaborn as sns\n",
    "import matplotlib.pyplot as plt"
   ]
  },
  {
   "cell_type": "code",
   "execution_count": 2,
   "id": "fc0b5c13-a016-4c0a-b145-513a0a200b87",
   "metadata": {},
   "outputs": [
    {
     "data": {
      "text/html": [
       "<div>\n",
       "<style scoped>\n",
       "    .dataframe tbody tr th:only-of-type {\n",
       "        vertical-align: middle;\n",
       "    }\n",
       "\n",
       "    .dataframe tbody tr th {\n",
       "        vertical-align: top;\n",
       "    }\n",
       "\n",
       "    .dataframe thead th {\n",
       "        text-align: right;\n",
       "    }\n",
       "</style>\n",
       "<table border=\"1\" class=\"dataframe\">\n",
       "  <thead>\n",
       "    <tr style=\"text-align: right;\">\n",
       "      <th></th>\n",
       "      <th>age</th>\n",
       "      <th>workclass</th>\n",
       "      <th>fnlwgt</th>\n",
       "      <th>education</th>\n",
       "      <th>education_num</th>\n",
       "      <th>marital_status</th>\n",
       "      <th>occupation</th>\n",
       "      <th>relationship</th>\n",
       "      <th>race</th>\n",
       "      <th>sex</th>\n",
       "      <th>capital_gain</th>\n",
       "      <th>capital_loss</th>\n",
       "      <th>hours_per_week</th>\n",
       "      <th>native_country</th>\n",
       "      <th>income</th>\n",
       "    </tr>\n",
       "  </thead>\n",
       "  <tbody>\n",
       "    <tr>\n",
       "      <th>0</th>\n",
       "      <td>39</td>\n",
       "      <td>State-gov</td>\n",
       "      <td>77516</td>\n",
       "      <td>Bachelors</td>\n",
       "      <td>13</td>\n",
       "      <td>Never-married</td>\n",
       "      <td>Adm-clerical</td>\n",
       "      <td>Not-in-family</td>\n",
       "      <td>White</td>\n",
       "      <td>Male</td>\n",
       "      <td>2174</td>\n",
       "      <td>0</td>\n",
       "      <td>40</td>\n",
       "      <td>United-States</td>\n",
       "      <td>&lt;=50K</td>\n",
       "    </tr>\n",
       "    <tr>\n",
       "      <th>1</th>\n",
       "      <td>50</td>\n",
       "      <td>Self-emp-not-inc</td>\n",
       "      <td>83311</td>\n",
       "      <td>Bachelors</td>\n",
       "      <td>13</td>\n",
       "      <td>Married-civ-spouse</td>\n",
       "      <td>Exec-managerial</td>\n",
       "      <td>Husband</td>\n",
       "      <td>White</td>\n",
       "      <td>Male</td>\n",
       "      <td>0</td>\n",
       "      <td>0</td>\n",
       "      <td>13</td>\n",
       "      <td>United-States</td>\n",
       "      <td>&lt;=50K</td>\n",
       "    </tr>\n",
       "    <tr>\n",
       "      <th>2</th>\n",
       "      <td>38</td>\n",
       "      <td>Private</td>\n",
       "      <td>215646</td>\n",
       "      <td>HS-grad</td>\n",
       "      <td>9</td>\n",
       "      <td>Divorced</td>\n",
       "      <td>Handlers-cleaners</td>\n",
       "      <td>Not-in-family</td>\n",
       "      <td>White</td>\n",
       "      <td>Male</td>\n",
       "      <td>0</td>\n",
       "      <td>0</td>\n",
       "      <td>40</td>\n",
       "      <td>United-States</td>\n",
       "      <td>&lt;=50K</td>\n",
       "    </tr>\n",
       "    <tr>\n",
       "      <th>3</th>\n",
       "      <td>53</td>\n",
       "      <td>Private</td>\n",
       "      <td>234721</td>\n",
       "      <td>11th</td>\n",
       "      <td>7</td>\n",
       "      <td>Married-civ-spouse</td>\n",
       "      <td>Handlers-cleaners</td>\n",
       "      <td>Husband</td>\n",
       "      <td>Black</td>\n",
       "      <td>Male</td>\n",
       "      <td>0</td>\n",
       "      <td>0</td>\n",
       "      <td>40</td>\n",
       "      <td>United-States</td>\n",
       "      <td>&lt;=50K</td>\n",
       "    </tr>\n",
       "    <tr>\n",
       "      <th>4</th>\n",
       "      <td>28</td>\n",
       "      <td>Private</td>\n",
       "      <td>338409</td>\n",
       "      <td>Bachelors</td>\n",
       "      <td>13</td>\n",
       "      <td>Married-civ-spouse</td>\n",
       "      <td>Prof-specialty</td>\n",
       "      <td>Wife</td>\n",
       "      <td>Black</td>\n",
       "      <td>Female</td>\n",
       "      <td>0</td>\n",
       "      <td>0</td>\n",
       "      <td>40</td>\n",
       "      <td>Cuba</td>\n",
       "      <td>&lt;=50K</td>\n",
       "    </tr>\n",
       "    <tr>\n",
       "      <th>...</th>\n",
       "      <td>...</td>\n",
       "      <td>...</td>\n",
       "      <td>...</td>\n",
       "      <td>...</td>\n",
       "      <td>...</td>\n",
       "      <td>...</td>\n",
       "      <td>...</td>\n",
       "      <td>...</td>\n",
       "      <td>...</td>\n",
       "      <td>...</td>\n",
       "      <td>...</td>\n",
       "      <td>...</td>\n",
       "      <td>...</td>\n",
       "      <td>...</td>\n",
       "      <td>...</td>\n",
       "    </tr>\n",
       "    <tr>\n",
       "      <th>32556</th>\n",
       "      <td>27</td>\n",
       "      <td>Private</td>\n",
       "      <td>257302</td>\n",
       "      <td>Assoc-acdm</td>\n",
       "      <td>12</td>\n",
       "      <td>Married-civ-spouse</td>\n",
       "      <td>Tech-support</td>\n",
       "      <td>Wife</td>\n",
       "      <td>White</td>\n",
       "      <td>Female</td>\n",
       "      <td>0</td>\n",
       "      <td>0</td>\n",
       "      <td>38</td>\n",
       "      <td>United-States</td>\n",
       "      <td>&lt;=50K</td>\n",
       "    </tr>\n",
       "    <tr>\n",
       "      <th>32557</th>\n",
       "      <td>40</td>\n",
       "      <td>Private</td>\n",
       "      <td>154374</td>\n",
       "      <td>HS-grad</td>\n",
       "      <td>9</td>\n",
       "      <td>Married-civ-spouse</td>\n",
       "      <td>Machine-op-inspct</td>\n",
       "      <td>Husband</td>\n",
       "      <td>White</td>\n",
       "      <td>Male</td>\n",
       "      <td>0</td>\n",
       "      <td>0</td>\n",
       "      <td>40</td>\n",
       "      <td>United-States</td>\n",
       "      <td>&gt;50K</td>\n",
       "    </tr>\n",
       "    <tr>\n",
       "      <th>32558</th>\n",
       "      <td>58</td>\n",
       "      <td>Private</td>\n",
       "      <td>151910</td>\n",
       "      <td>HS-grad</td>\n",
       "      <td>9</td>\n",
       "      <td>Widowed</td>\n",
       "      <td>Adm-clerical</td>\n",
       "      <td>Unmarried</td>\n",
       "      <td>White</td>\n",
       "      <td>Female</td>\n",
       "      <td>0</td>\n",
       "      <td>0</td>\n",
       "      <td>40</td>\n",
       "      <td>United-States</td>\n",
       "      <td>&lt;=50K</td>\n",
       "    </tr>\n",
       "    <tr>\n",
       "      <th>32559</th>\n",
       "      <td>22</td>\n",
       "      <td>Private</td>\n",
       "      <td>201490</td>\n",
       "      <td>HS-grad</td>\n",
       "      <td>9</td>\n",
       "      <td>Never-married</td>\n",
       "      <td>Adm-clerical</td>\n",
       "      <td>Own-child</td>\n",
       "      <td>White</td>\n",
       "      <td>Male</td>\n",
       "      <td>0</td>\n",
       "      <td>0</td>\n",
       "      <td>20</td>\n",
       "      <td>United-States</td>\n",
       "      <td>&lt;=50K</td>\n",
       "    </tr>\n",
       "    <tr>\n",
       "      <th>32560</th>\n",
       "      <td>52</td>\n",
       "      <td>Self-emp-inc</td>\n",
       "      <td>287927</td>\n",
       "      <td>HS-grad</td>\n",
       "      <td>9</td>\n",
       "      <td>Married-civ-spouse</td>\n",
       "      <td>Exec-managerial</td>\n",
       "      <td>Wife</td>\n",
       "      <td>White</td>\n",
       "      <td>Female</td>\n",
       "      <td>15024</td>\n",
       "      <td>0</td>\n",
       "      <td>40</td>\n",
       "      <td>United-States</td>\n",
       "      <td>&gt;50K</td>\n",
       "    </tr>\n",
       "  </tbody>\n",
       "</table>\n",
       "<p>32561 rows × 15 columns</p>\n",
       "</div>"
      ],
      "text/plain": [
       "       age          workclass  fnlwgt    education  education_num  \\\n",
       "0       39          State-gov   77516    Bachelors             13   \n",
       "1       50   Self-emp-not-inc   83311    Bachelors             13   \n",
       "2       38            Private  215646      HS-grad              9   \n",
       "3       53            Private  234721         11th              7   \n",
       "4       28            Private  338409    Bachelors             13   \n",
       "...    ...                ...     ...          ...            ...   \n",
       "32556   27            Private  257302   Assoc-acdm             12   \n",
       "32557   40            Private  154374      HS-grad              9   \n",
       "32558   58            Private  151910      HS-grad              9   \n",
       "32559   22            Private  201490      HS-grad              9   \n",
       "32560   52       Self-emp-inc  287927      HS-grad              9   \n",
       "\n",
       "            marital_status          occupation    relationship    race  \\\n",
       "0            Never-married        Adm-clerical   Not-in-family   White   \n",
       "1       Married-civ-spouse     Exec-managerial         Husband   White   \n",
       "2                 Divorced   Handlers-cleaners   Not-in-family   White   \n",
       "3       Married-civ-spouse   Handlers-cleaners         Husband   Black   \n",
       "4       Married-civ-spouse      Prof-specialty            Wife   Black   \n",
       "...                    ...                 ...             ...     ...   \n",
       "32556   Married-civ-spouse        Tech-support            Wife   White   \n",
       "32557   Married-civ-spouse   Machine-op-inspct         Husband   White   \n",
       "32558              Widowed        Adm-clerical       Unmarried   White   \n",
       "32559        Never-married        Adm-clerical       Own-child   White   \n",
       "32560   Married-civ-spouse     Exec-managerial            Wife   White   \n",
       "\n",
       "           sex  capital_gain  capital_loss  hours_per_week  native_country  \\\n",
       "0         Male          2174             0              40   United-States   \n",
       "1         Male             0             0              13   United-States   \n",
       "2         Male             0             0              40   United-States   \n",
       "3         Male             0             0              40   United-States   \n",
       "4       Female             0             0              40            Cuba   \n",
       "...        ...           ...           ...             ...             ...   \n",
       "32556   Female             0             0              38   United-States   \n",
       "32557     Male             0             0              40   United-States   \n",
       "32558   Female             0             0              40   United-States   \n",
       "32559     Male             0             0              20   United-States   \n",
       "32560   Female         15024             0              40   United-States   \n",
       "\n",
       "       income  \n",
       "0       <=50K  \n",
       "1       <=50K  \n",
       "2       <=50K  \n",
       "3       <=50K  \n",
       "4       <=50K  \n",
       "...       ...  \n",
       "32556   <=50K  \n",
       "32557    >50K  \n",
       "32558   <=50K  \n",
       "32559   <=50K  \n",
       "32560    >50K  \n",
       "\n",
       "[32561 rows x 15 columns]"
      ]
     },
     "execution_count": 2,
     "metadata": {},
     "output_type": "execute_result"
    }
   ],
   "source": [
    "# Load the dataset from your CSV file\n",
    "\n",
    "df = pd.read_csv(\"adult_with_headers.csv\")\n",
    "df"
   ]
  },
  {
   "cell_type": "code",
   "execution_count": 3,
   "id": "2804d4ef-3b59-4030-a86a-270b0e2b9d9b",
   "metadata": {},
   "outputs": [
    {
     "name": "stdout",
     "output_type": "stream",
     "text": [
      "Summary Statistics:\n",
      "                age        fnlwgt  education_num  capital_gain  capital_loss  \\\n",
      "count  32561.000000  3.256100e+04   32561.000000  32561.000000  32561.000000   \n",
      "mean      38.581647  1.897784e+05      10.080679   1077.648844     87.303830   \n",
      "std       13.640433  1.055500e+05       2.572720   7385.292085    402.960219   \n",
      "min       17.000000  1.228500e+04       1.000000      0.000000      0.000000   \n",
      "25%       28.000000  1.178270e+05       9.000000      0.000000      0.000000   \n",
      "50%       37.000000  1.783560e+05      10.000000      0.000000      0.000000   \n",
      "75%       48.000000  2.370510e+05      12.000000      0.000000      0.000000   \n",
      "max       90.000000  1.484705e+06      16.000000  99999.000000   4356.000000   \n",
      "\n",
      "       hours_per_week  \n",
      "count    32561.000000  \n",
      "mean        40.437456  \n",
      "std         12.347429  \n",
      "min          1.000000  \n",
      "25%         40.000000  \n",
      "50%         40.000000  \n",
      "75%         45.000000  \n",
      "max         99.000000  \n",
      "\n",
      "Missing Values:\n",
      "age               0\n",
      "workclass         0\n",
      "fnlwgt            0\n",
      "education         0\n",
      "education_num     0\n",
      "marital_status    0\n",
      "occupation        0\n",
      "relationship      0\n",
      "race              0\n",
      "sex               0\n",
      "capital_gain      0\n",
      "capital_loss      0\n",
      "hours_per_week    0\n",
      "native_country    0\n",
      "income            0\n",
      "dtype: int64\n"
     ]
    }
   ],
   "source": [
    "# Display basic information about the dataset\n",
    "print(\"Summary Statistics:\")\n",
    "print(df.describe())\n",
    "print(\"\\nMissing Values:\")\n",
    "print(df.isnull().sum())"
   ]
  },
  {
   "cell_type": "code",
   "execution_count": 4,
   "id": "336f0037-c06f-420f-92c4-9dc7e6876323",
   "metadata": {},
   "outputs": [
    {
     "name": "stdout",
     "output_type": "stream",
     "text": [
      "\n",
      "After dropping missing values:\n",
      "age               0\n",
      "workclass         0\n",
      "fnlwgt            0\n",
      "education         0\n",
      "education_num     0\n",
      "marital_status    0\n",
      "occupation        0\n",
      "relationship      0\n",
      "race              0\n",
      "sex               0\n",
      "capital_gain      0\n",
      "capital_loss      0\n",
      "hours_per_week    0\n",
      "native_country    0\n",
      "income            0\n",
      "dtype: int64\n"
     ]
    }
   ],
   "source": [
    "# 1. Data Exploration and Preprocessing\n",
    "# Handle missing values: Drop rows with missing values\n",
    "df.dropna(inplace=True)\n",
    "print(\"\\nAfter dropping missing values:\")\n",
    "print(df.isnull().sum())"
   ]
  },
  {
   "cell_type": "code",
   "execution_count": 5,
   "id": "ec0afccd-86ca-4079-be32-90eef3934167",
   "metadata": {},
   "outputs": [],
   "source": [
    "# Scaling numerical features\n",
    "numerical_features = [\"age\", \"fnlwgt\", \"education-num\", \"capital-gain\", \"capital-loss\", \"hours-per-week\"]\n",
    "standard_scaler = StandardScaler()\n",
    "minmax_scaler = MinMaxScaler()"
   ]
  },
  {
   "cell_type": "code",
   "execution_count": 8,
   "id": "342bf8ab-fca7-4972-aafd-d08867e6743b",
   "metadata": {},
   "outputs": [
    {
     "name": "stdout",
     "output_type": "stream",
     "text": [
      "Detected numerical features: ['age', 'fnlwgt', 'education_num', 'capital_gain', 'capital_loss', 'hours_per_week']\n",
      "\n",
      "Standard Scaling and Min-Max Scaling applied to numerical features.\n"
     ]
    }
   ],
   "source": [
    "# Min-Max Scaling\n",
    "numerical_features = df.select_dtypes(include=['float64', 'int64']).columns.tolist()\n",
    "print(\"Detected numerical features:\", numerical_features)\n",
    "\n",
    "\n",
    "print(\"\\nStandard Scaling and Min-Max Scaling applied to numerical features.\")"
   ]
  },
  {
   "cell_type": "code",
   "execution_count": 9,
   "id": "ec713d44-bdf9-4183-8ebc-f0d363a48408",
   "metadata": {},
   "outputs": [
    {
     "name": "stdout",
     "output_type": "stream",
     "text": [
      "\n",
      "Standard Scaling is preferred for algorithms sensitive to feature magnitude differences (e.g., SVM, Logistic Regression).\n",
      "Min-Max Scaling is ideal for algorithms needing normalized data in a fixed range, such as Neural Networks or K-Means.\n"
     ]
    }
   ],
   "source": [
    "print(\"\\nStandard Scaling is preferred for algorithms sensitive to feature magnitude differences (e.g., SVM, Logistic Regression).\")\n",
    "print(\"Min-Max Scaling is ideal for algorithms needing normalized data in a fixed range, such as Neural Networks or K-Means.\")"
   ]
  },
  {
   "cell_type": "code",
   "execution_count": 10,
   "id": "ebfc232c-ddd1-4691-b0ae-be7dc376a18b",
   "metadata": {},
   "outputs": [],
   "source": [
    "# 2. Encoding Techniques\n",
    "# Apply One-Hot Encoding to categorical variables with less than 5 categories\n",
    "one_hot_features = [col for col in df.select_dtypes(include=['object']).columns if df[col].nunique() <= 5]\n",
    "df_one_hot_encoded = pd.get_dummies(df, columns=one_hot_features)"
   ]
  },
  {
   "cell_type": "code",
   "execution_count": 11,
   "id": "644901df-b55d-409d-bdfd-dea5a6eda046",
   "metadata": {},
   "outputs": [
    {
     "name": "stdout",
     "output_type": "stream",
     "text": [
      "\n",
      "Encoding completed: One-Hot Encoding for small categories and Label Encoding for larger categories.\n"
     ]
    }
   ],
   "source": [
    "# Use Label Encoding for categorical variables with more than 5 categories\n",
    "label_features = [col for col in df.select_dtypes(include=['object']).columns if df[col].nunique() > 5]\n",
    "label_encoder = LabelEncoder()\n",
    "for feature in label_features:\n",
    "    df[feature] = label_encoder.fit_transform(df[feature])\n",
    "\n",
    "print(\"\\nEncoding completed: One-Hot Encoding for small categories and Label Encoding for larger categories.\")\n"
   ]
  },
  {
   "cell_type": "code",
   "execution_count": 12,
   "id": "25f33079-8959-4e90-8ea5-d898ea35126e",
   "metadata": {},
   "outputs": [
    {
     "name": "stdout",
     "output_type": "stream",
     "text": [
      "\n",
      "One-Hot Encoding is preferred for smaller category sets but increases dimensionality.\n",
      "Label Encoding is efficient for larger category sets but imposes an ordinal relationship.\n"
     ]
    }
   ],
   "source": [
    "# Discuss encoding methods\n",
    "print(\"\\nOne-Hot Encoding is preferred for smaller category sets but increases dimensionality.\")\n",
    "print(\"Label Encoding is efficient for larger category sets but imposes an ordinal relationship.\")\n"
   ]
  },
  {
   "cell_type": "code",
   "execution_count": 15,
   "id": "6e24ef30-ccf6-45f3-911d-772eb8303b7e",
   "metadata": {},
   "outputs": [
    {
     "name": "stdout",
     "output_type": "stream",
     "text": [
      "\n",
      "New features created: 'capital_total' and 'age_group'.\n"
     ]
    }
   ],
   "source": [
    "# 3. Feature Engineering\n",
    "# Create new features\n",
    "df['capital_total'] = df['capital_gain'] - df['capital_loss']\n",
    "df['age_group'] = pd.cut(df['age'], bins=[0, 25, 45, 65, 100], labels=['Young', 'Adult', 'Middle-Aged', 'Senior'])\n",
    "\n",
    "print(\"\\nNew features created: 'capital_total' and 'age_group'.\")"
   ]
  },
  {
   "cell_type": "code",
   "execution_count": 17,
   "id": "cbaf259d-37b4-47ea-9891-5ab67cede8ae",
   "metadata": {},
   "outputs": [
    {
     "name": "stdout",
     "output_type": "stream",
     "text": [
      "\n",
      "Log transformation applied to 'capital_gain' due to skewness.\n"
     ]
    }
   ],
   "source": [
    "# Apply log transformation to skewed features\n",
    "df['capital-gain-log'] = np.log1p(df['capital_gain'])\n",
    "print(\"\\nLog transformation applied to 'capital_gain' due to skewness.\")"
   ]
  },
  {
   "cell_type": "code",
   "execution_count": 18,
   "id": "fce02ea9-cf13-408c-afa1-ec8186bacb16",
   "metadata": {},
   "outputs": [
    {
     "name": "stderr",
     "output_type": "stream",
     "text": [
      "C:\\Users\\Manisha Chandanshiv\\anaconda3\\Lib\\site-packages\\sklearn\\base.py:439: UserWarning: X does not have valid feature names, but IsolationForest was fitted with feature names\n",
      "  warnings.warn(\n"
     ]
    },
    {
     "name": "stdout",
     "output_type": "stream",
     "text": [
      "\n",
      "Outliers removed using Isolation Forest.\n"
     ]
    }
   ],
   "source": [
    "# 4. Feature Selection\n",
    "# Use Isolation Forest for outlier detection\n",
    "iso_forest = IsolationForest(contamination=0.01, random_state=42)\n",
    "outliers = iso_forest.fit_predict(df[numerical_features])\n",
    "df = df[outliers == 1]  # Keep only inliers\n",
    "\n",
    "print(\"\\nOutliers removed using Isolation Forest.\")"
   ]
  },
  {
   "cell_type": "code",
   "execution_count": 19,
   "id": "5a7fbc96-fbe4-4788-8a49-9ffed712f7df",
   "metadata": {},
   "outputs": [
    {
     "name": "stdout",
     "output_type": "stream",
     "text": [
      "\n",
      "PPS Matrix:\n",
      "                     x                 y   ppscore            case  \\\n",
      "0                 age               age  1.000000  predict_itself   \n",
      "1                 age         workclass  0.000000      regression   \n",
      "2                 age            fnlwgt  0.000000      regression   \n",
      "3                 age         education  0.000000      regression   \n",
      "4                 age     education_num  0.000000      regression   \n",
      "..                ...               ...       ...             ...   \n",
      "319  capital-gain-log    native_country  0.000000      regression   \n",
      "320  capital-gain-log            income  0.265112  classification   \n",
      "321  capital-gain-log     capital_total  0.754218      regression   \n",
      "322  capital-gain-log         age_group  0.012616  classification   \n",
      "323  capital-gain-log  capital-gain-log  1.000000  predict_itself   \n",
      "\n",
      "     is_valid_score               metric  baseline_score   model_score  \\\n",
      "0              True                 None        0.000000      1.000000   \n",
      "1              True  mean absolute error        0.756400      0.889262   \n",
      "2              True  mean absolute error    77515.117800  78903.943015   \n",
      "3              True  mean absolute error        2.724400      2.764712   \n",
      "4              True  mean absolute error        1.876000      1.913453   \n",
      "..              ...                  ...             ...           ...   \n",
      "319            True  mean absolute error        2.349800      4.242382   \n",
      "320            True          weighted F1        0.654198      0.745874   \n",
      "321            True  mean absolute error      671.575400    165.061274   \n",
      "322            True          weighted F1        0.361000      0.369061   \n",
      "323            True                 None        0.000000      1.000000   \n",
      "\n",
      "                        model  \n",
      "0                        None  \n",
      "1     DecisionTreeRegressor()  \n",
      "2     DecisionTreeRegressor()  \n",
      "3     DecisionTreeRegressor()  \n",
      "4     DecisionTreeRegressor()  \n",
      "..                        ...  \n",
      "319   DecisionTreeRegressor()  \n",
      "320  DecisionTreeClassifier()  \n",
      "321   DecisionTreeRegressor()  \n",
      "322  DecisionTreeClassifier()  \n",
      "323                      None  \n",
      "\n",
      "[324 rows x 9 columns]\n"
     ]
    }
   ],
   "source": [
    "# PPS analysis\n",
    "pps_matrix = pps.matrix(df)\n",
    "print(\"\\nPPS Matrix:\\n\", pps_matrix)"
   ]
  },
  {
   "cell_type": "code",
   "execution_count": 20,
   "id": "410e5950-c551-4f6e-889d-06003360fff9",
   "metadata": {},
   "outputs": [
    {
     "name": "stderr",
     "output_type": "stream",
     "text": [
      "C:\\Users\\Manisha Chandanshiv\\AppData\\Local\\Temp\\ipykernel_13060\\2614875905.py:2: FutureWarning: The default value of numeric_only in DataFrame.corr is deprecated. In a future version, it will default to False. Select only valid columns or specify the value of numeric_only to silence this warning.\n",
      "  corr_matrix = df.corr()\n"
     ]
    },
    {
     "data": {
      "image/png": "[encoded data removed]",
      "text/plain": [
       "<Figure size 640x480 with 2 Axes>"
      ]
     },
     "metadata": {},
     "output_type": "display_data"
    },
    {
     "name": "stdout",
     "output_type": "stream",
     "text": [
      "\n",
      "PPS and Correlation analysis completed.\n"
     ]
    }
   ],
   "source": [
    "# Correlation matrix comparison\n",
    "corr_matrix = df.corr()\n",
    "sns.heatmap(corr_matrix, annot=True, cmap='coolwarm')\n",
    "plt.title('Correlation Matrix')\n",
    "plt.show()\n",
    "\n",
    "print(\"\\nPPS and Correlation analysis completed.\")"
   ]
  },
  {
   "cell_type": "code",
   "execution_count": null,
   "id": "0d15130b-f3cc-4f32-8f56-269ca95e18ae",
   "metadata": {},
   "outputs": [],
   "source": []
  }
 ],
 "metadata": {
  "kernelspec": {
   "display_name": "Python 3 (ipykernel)",
   "language": "python",
   "name": "python3"
  },
  "language_info": {
   "codemirror_mode": {
    "name": "ipython",
    "version": 3
   },
   "file_extension": ".py",
   "mimetype": "text/x-python",
   "name": "python",
   "nbconvert_exporter": "python",
   "pygments_lexer": "ipython3",
   "version": "3.11.7"
  }
 },
 "nbformat": 4,
 "nbformat_minor": 5
}
