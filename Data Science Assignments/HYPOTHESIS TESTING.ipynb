{
 "cells": [
  {
   "cell_type": "markdown",
   "id": "a5b27fd1-4287-48ec-a1b8-c0eae32c434c",
   "metadata": {},
   "source": [
    "# HYPOTHESIS TESTING"
   ]
  },
  {
   "cell_type": "markdown",
   "id": "3dc54418-1574-483d-931e-7290059f3769",
   "metadata": {},
   "source": [
    "Null Hypothesis (H0): There is no significant association between the type of smart home device and the customer satisfaction level. The distribution of satisfaction levels is independent of the device type.\r\n",
    "\r\n",
    "Alternative Hypothesis (H1): There is a significant association between the type of smart home device and the customer satisfaction level."
   ]
  },
  {
   "cell_type": "code",
   "execution_count": 1,
   "id": "e0e3c0c8-2f0e-4adb-9251-35588784f644",
   "metadata": {},
   "outputs": [],
   "source": [
    "import math\n",
    "from scipy.stats import norm\n",
    "\n",
    "# Given data\n",
    "sample_mean = 3050  # Rs\n",
    "theoretical_mean = 4000  # Rs\n",
    "sigma = 5 * 25  # Standard deviation\n",
    "sample_size = 25  # n\n",
    "alpha = 0.05  # Significance level"
   ]
  },
  {
   "cell_type": "code",
   "execution_count": 2,
   "id": "9be3e935-3f37-40cf-bfc1-07649273e8c3",
   "metadata": {},
   "outputs": [],
   "source": [
    "# Step 2: Calculate the Test Statistic\n",
    "standard_error = sigma / math.sqrt(sample_size)\n",
    "test_statistic = (sample_mean - theoretical_mean) / standard_error"
   ]
  },
  {
   "cell_type": "code",
   "execution_count": 3,
   "id": "36a21765-3540-4d84-a353-704c4a71c83f",
   "metadata": {},
   "outputs": [],
   "source": [
    "# Step 3: Determine the Critical Value\n",
    "critical_value = norm.ppf(1 - alpha)  # One-tailed test"
   ]
  },
  {
   "cell_type": "code",
   "execution_count": 4,
   "id": "28006bbf-fdac-4335-aa64-17d937997548",
   "metadata": {},
   "outputs": [],
   "source": [
    "# Step 4: Make a Decision\n",
    "if test_statistic > critical_value:\n",
    "    decision = \"Reject the null hypothesis\"\n",
    "else:\n",
    "    decision = \"Fail to reject the null hypothesis\""
   ]
  },
  {
   "cell_type": "code",
   "execution_count": 5,
   "id": "a7a07d11-6f50-46bd-bd13-c25b07a61d52",
   "metadata": {},
   "outputs": [
    {
     "name": "stdout",
     "output_type": "stream",
     "text": [
      "Test Statistic (t): -38.00\n",
      "Critical Value (z): 1.64\n",
      "Decision: Fail to reject the null hypothesis\n"
     ]
    }
   ],
   "source": [
    "# Step 5: Output results\n",
    "print(f\"Test Statistic (t): {test_statistic:.2f}\")\n",
    "print(f\"Critical Value (z): {critical_value:.2f}\")\n",
    "print(f\"Decision: {decision}\")\n"
   ]
  },
  {
   "cell_type": "markdown",
   "id": "042996ef-13b3-44cf-98e7-28f867e67a43",
   "metadata": {},
   "source": [
    "Test Statistic (t): -38.0\n",
    "Critical Value (z): (for a one-tailed test at 𝛼=0.05)\n",
    "Comparison: Since t=−38.0 is significantly less than 𝑧=1.645\n",
    "we fail to reject the null hypothesis.\n",
    "\n",
    "\n",
    "# Final Conclusion:\n",
    "There is not enough evidence to support the restaurant owners' claim that the weekly operating costs are higher than the theoretical model suggests.\n",
    "\n",
    "The observed sample mean of 3050\n",
    "3050 is much lower than the expected theoretical mean of 4000\n",
    "4000, suggesting that the data does not align with the claim of increased costs.on."
   ]
  },
  {
   "cell_type": "code",
   "execution_count": null,
   "id": "8aed3d35-2a0f-49af-800f-cdccf63f7694",
   "metadata": {},
   "outputs": [],
   "source": []
  }
 ],
 "metadata": {
  "kernelspec": {
   "display_name": "Python 3 (ipykernel)",
   "language": "python",
   "name": "python3"
  },
  "language_info": {
   "codemirror_mode": {
    "name": "ipython",
    "version": 3
   },
   "file_extension": ".py",
   "mimetype": "text/x-python",
   "name": "python",
   "nbconvert_exporter": "python",
   "pygments_lexer": "ipython3",
   "version": "3.11.7"
  }
 },
 "nbformat": 4,
 "nbformat_minor": 5
}
