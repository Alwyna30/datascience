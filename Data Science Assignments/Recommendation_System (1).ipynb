{
 "cells": [
  {
   "cell_type": "code",
   "execution_count": 2,
   "id": "bb95ced4-e2e4-468d-8450-1881b7fa6db2",
   "metadata": {},
   "outputs": [
    {
     "data": {
      "text/html": [
       "<div>\n",
       "<style scoped>\n",
       "    .dataframe tbody tr th:only-of-type {\n",
       "        vertical-align: middle;\n",
       "    }\n",
       "\n",
       "    .dataframe tbody tr th {\n",
       "        vertical-align: top;\n",
       "    }\n",
       "\n",
       "    .dataframe thead th {\n",
       "        text-align: right;\n",
       "    }\n",
       "</style>\n",
       "<table border=\"1\" class=\"dataframe\">\n",
       "  <thead>\n",
       "    <tr style=\"text-align: right;\">\n",
       "      <th></th>\n",
       "      <th>anime_id</th>\n",
       "      <th>name</th>\n",
       "      <th>genre</th>\n",
       "      <th>type</th>\n",
       "      <th>episodes</th>\n",
       "      <th>rating</th>\n",
       "      <th>members</th>\n",
       "    </tr>\n",
       "  </thead>\n",
       "  <tbody>\n",
       "    <tr>\n",
       "      <th>0</th>\n",
       "      <td>32281</td>\n",
       "      <td>Kimi no Na wa.</td>\n",
       "      <td>Drama, Romance, School, Supernatural</td>\n",
       "      <td>Movie</td>\n",
       "      <td>1</td>\n",
       "      <td>9.37</td>\n",
       "      <td>200630</td>\n",
       "    </tr>\n",
       "    <tr>\n",
       "      <th>1</th>\n",
       "      <td>5114</td>\n",
       "      <td>Fullmetal Alchemist: Brotherhood</td>\n",
       "      <td>Action, Adventure, Drama, Fantasy, Magic, Mili...</td>\n",
       "      <td>TV</td>\n",
       "      <td>64</td>\n",
       "      <td>9.26</td>\n",
       "      <td>793665</td>\n",
       "    </tr>\n",
       "    <tr>\n",
       "      <th>2</th>\n",
       "      <td>28977</td>\n",
       "      <td>Gintama°</td>\n",
       "      <td>Action, Comedy, Historical, Parody, Samurai, S...</td>\n",
       "      <td>TV</td>\n",
       "      <td>51</td>\n",
       "      <td>9.25</td>\n",
       "      <td>114262</td>\n",
       "    </tr>\n",
       "    <tr>\n",
       "      <th>3</th>\n",
       "      <td>9253</td>\n",
       "      <td>Steins;Gate</td>\n",
       "      <td>Sci-Fi, Thriller</td>\n",
       "      <td>TV</td>\n",
       "      <td>24</td>\n",
       "      <td>9.17</td>\n",
       "      <td>673572</td>\n",
       "    </tr>\n",
       "    <tr>\n",
       "      <th>4</th>\n",
       "      <td>9969</td>\n",
       "      <td>Gintama&amp;#039;</td>\n",
       "      <td>Action, Comedy, Historical, Parody, Samurai, S...</td>\n",
       "      <td>TV</td>\n",
       "      <td>51</td>\n",
       "      <td>9.16</td>\n",
       "      <td>151266</td>\n",
       "    </tr>\n",
       "  </tbody>\n",
       "</table>\n",
       "</div>"
      ],
      "text/plain": [
       "   anime_id                              name  \\\n",
       "0     32281                    Kimi no Na wa.   \n",
       "1      5114  Fullmetal Alchemist: Brotherhood   \n",
       "2     28977                          Gintama°   \n",
       "3      9253                       Steins;Gate   \n",
       "4      9969                     Gintama&#039;   \n",
       "\n",
       "                                               genre   type episodes  rating  \\\n",
       "0               Drama, Romance, School, Supernatural  Movie        1    9.37   \n",
       "1  Action, Adventure, Drama, Fantasy, Magic, Mili...     TV       64    9.26   \n",
       "2  Action, Comedy, Historical, Parody, Samurai, S...     TV       51    9.25   \n",
       "3                                   Sci-Fi, Thriller     TV       24    9.17   \n",
       "4  Action, Comedy, Historical, Parody, Samurai, S...     TV       51    9.16   \n",
       "\n",
       "   members  \n",
       "0   200630  \n",
       "1   793665  \n",
       "2   114262  \n",
       "3   673572  \n",
       "4   151266  "
      ]
     },
     "execution_count": 2,
     "metadata": {},
     "output_type": "execute_result"
    }
   ],
   "source": [
    "import pandas as pd\n",
    "import numpy as np\n",
    "from sklearn.preprocessing import LabelEncoder, MinMaxScaler\n",
    "from sklearn.metrics.pairwise import cosine_similarity\n",
    "from sklearn.model_selection import train_test_split\n",
    "\n",
    "# Load the dataset\n",
    "df = pd.read_csv(\"C://Users//Manisha Chandanshiv//OneDrive//ドキュメント//Excelr assignment Questions//Data Science//Recommendation System//Recommendation System//anime.csv\")  # Change the path as per your file location\n",
    "\n",
    "df.head()"
   ]
  },
  {
   "cell_type": "code",
   "execution_count": 17,
   "id": "011fc2f4-c854-449c-8ad8-1f29fa7d214b",
   "metadata": {},
   "outputs": [
    {
     "name": "stdout",
     "output_type": "stream",
     "text": [
      "anime_id         0\n",
      "name             0\n",
      "genre            0\n",
      "type             0\n",
      "episodes         0\n",
      "rating           0\n",
      "members          0\n",
      "genre_encoded    0\n",
      "dtype: int64\n",
      "anime_id         0\n",
      "name             0\n",
      "genre            0\n",
      "type             0\n",
      "episodes         0\n",
      "rating           0\n",
      "members          0\n",
      "genre_encoded    0\n",
      "dtype: int64\n"
     ]
    }
   ],
   "source": [
    "\n",
    "print(df.isnull().sum())\n",
    "\n",
    "df['genre'] = df['genre'].fillna('Unknown')\n",
    "\n",
    "df['rating'] = df['rating'].fillna(df['rating'].mean())\n",
    "\n",
    "print(df.isnull().sum())"
   ]
  },
  {
   "cell_type": "code",
   "execution_count": 16,
   "id": "570e511d-f80f-449e-96a3-76b3aa7b0351",
   "metadata": {},
   "outputs": [
    {
     "name": "stdout",
     "output_type": "stream",
     "text": [
      "anime_id         0\n",
      "name             0\n",
      "genre            0\n",
      "type             0\n",
      "episodes         0\n",
      "rating           0\n",
      "members          0\n",
      "genre_encoded    0\n",
      "dtype: int64\n"
     ]
    }
   ],
   "source": [
    "\n",
    "df['type'] = df['type'].fillna('Unknown')\n",
    "\n",
    "print(df.isnull().sum())"
   ]
  },
  {
   "cell_type": "code",
   "execution_count": 15,
   "id": "67f8e2cd-6a27-4e70-a0e6-eafcb9b19bda",
   "metadata": {},
   "outputs": [
    {
     "name": "stdout",
     "output_type": "stream",
     "text": [
      "anime_id         0\n",
      "name             0\n",
      "genre            0\n",
      "type             0\n",
      "episodes         0\n",
      "rating           0\n",
      "members          0\n",
      "genre_encoded    0\n",
      "dtype: int64\n"
     ]
    }
   ],
   "source": [
    "\n",
    "df = df.dropna(subset=['type'])\n",
    "\n",
    "print(df.isnull().sum())"
   ]
  },
  {
   "cell_type": "code",
   "execution_count": 14,
   "id": "2e6182cd-0589-475a-b182-93f9ff40904e",
   "metadata": {},
   "outputs": [
    {
     "name": "stdout",
     "output_type": "stream",
     "text": [
      "   anime_id                              name   genre   type  episodes  \\\n",
      "0     32281                    Kimi no Na wa.   Drama  Movie  0.000000   \n",
      "1      5114  Fullmetal Alchemist: Brotherhood  Action     TV  0.034673   \n",
      "2     28977                          Gintama°  Action     TV  0.027518   \n",
      "3      9253                       Steins;Gate  Sci-Fi     TV  0.012658   \n",
      "4      9969                     Gintama&#039;  Action     TV  0.027518   \n",
      "\n",
      "     rating   members  genre_encoded  \n",
      "0  0.924370  0.197872              6  \n",
      "1  0.911164  0.782770              0  \n",
      "2  0.909964  0.112689              0  \n",
      "3  0.900360  0.664325             28  \n",
      "4  0.899160  0.149186              0  \n"
     ]
    }
   ],
   "source": [
    "\n",
    "df['rating'] = pd.to_numeric(df['rating'], errors='coerce')\n",
    "df['episodes'] = pd.to_numeric(df['episodes'], errors='coerce')\n",
    "df['members'] = pd.to_numeric(df['members'], errors='coerce')\n",
    "\n",
    "\n",
    "df['rating'].fillna(df['rating'].mean(), inplace=True)\n",
    "df['episodes'].fillna(df['episodes'].mean(), inplace=True)\n",
    "df['members'].fillna(df['members'].mean(), inplace=True)\n",
    "\n",
    "\n",
    "scaler = MinMaxScaler()\n",
    "df[['rating', 'episodes', 'members']] = scaler.fit_transform(df[['rating', 'episodes', 'members']])\n",
    "\n",
    "\n",
    "print(df.head())\n"
   ]
  },
  {
   "cell_type": "code",
   "execution_count": 13,
   "id": "32ebabc6-0f06-45bc-b358-2109313a5e06",
   "metadata": {},
   "outputs": [
    {
     "name": "stdout",
     "output_type": "stream",
     "text": [
      "   anime_id                              name   genre   type  episodes  \\\n",
      "0     32281                    Kimi no Na wa.   Drama  Movie  0.000000   \n",
      "1      5114  Fullmetal Alchemist: Brotherhood  Action     TV  0.034673   \n",
      "2     28977                          Gintama°  Action     TV  0.027518   \n",
      "3      9253                       Steins;Gate  Sci-Fi     TV  0.012658   \n",
      "4      9969                     Gintama&#039;  Action     TV  0.027518   \n",
      "\n",
      "     rating   members  genre_encoded  \n",
      "0  0.924370  0.197872              6  \n",
      "1  0.911164  0.782770              0  \n",
      "2  0.909964  0.112689              0  \n",
      "3  0.900360  0.664325             28  \n",
      "4  0.899160  0.149186              0  \n"
     ]
    }
   ],
   "source": [
    "from sklearn.preprocessing import LabelEncoder, MinMaxScaler\n",
    "\n",
    "\n",
    "le = LabelEncoder()\n",
    "\n",
    "\n",
    "df['genre'] = df['genre'].apply(lambda x: x.split(',')[0] if isinstance(x, str) else 'Unknown')\n",
    "\n",
    "df['genre_encoded'] = le.fit_transform(df['genre'])\n",
    "\n",
    "\n",
    "scaler = MinMaxScaler()\n",
    "\n",
    "\n",
    "df[['rating', 'episodes', 'members']] = scaler.fit_transform(df[['rating', 'episodes', 'members']])\n",
    "\n",
    "\n",
    "print(df.head())\n"
   ]
  },
  {
   "cell_type": "code",
   "execution_count": 12,
   "id": "5ff9c21b-7dd0-4390-a93e-28f526af79eb",
   "metadata": {},
   "outputs": [
    {
     "name": "stdout",
     "output_type": "stream",
     "text": [
      "1       Fullmetal Alchemist: Brotherhood\n",
      "582                               Bleach\n",
      "288                           Fairy Tail\n",
      "445                     Mirai Nikki (TV)\n",
      "159                         Angel Beats!\n",
      "19       Code Geass: Hangyaku no Lelouch\n",
      "760                           Elfen Lied\n",
      "2132                 Sword Art Online II\n",
      "449                          Tokyo Ghoul\n",
      "86                    Shingeki no Kyojin\n",
      "Name: name, dtype: object\n"
     ]
    }
   ],
   "source": [
    "from sklearn.metrics.pairwise import cosine_similarity\n",
    "\n",
    "\n",
    "features = df[['genre_encoded', 'rating', 'episodes', 'members']]\n",
    "\n",
    "cosine_sim = cosine_similarity(features)\n",
    "\n",
    "def get_recommendations(anime_name, cosine_sim=cosine_sim):\n",
    "    idx = df[df['name'] == anime_name].index[0]\n",
    "    sim_scores = list(enumerate(cosine_sim[idx]))\n",
    "    sim_scores = sorted(sim_scores, key=lambda x: x[1], reverse=True)\n",
    "    sim_scores = sim_scores[1:11]\n",
    "    anime_indices = [i[0] for i in sim_scores]\n",
    "    \n",
    "    return df['name'].iloc[anime_indices]\n",
    "\n",
    "\n",
    "recommendations = get_recommendations('Naruto')\n",
    "print(recommendations)\n"
   ]
  },
  {
   "cell_type": "markdown",
   "id": "3922847d-9e71-4c75-9dd3-31f83f332613",
   "metadata": {},
   "source": [
    "# Interview Questions\n",
    "\n",
    "\n",
    "### 1. What is collaborative filtering, and how does it work?\n",
    "Collaborative filtering is a technique used in recommendation systems to predict a user's preferences by analyzing preferences and behaviors of many users. Rather than relying on the attributes or content of the items (like genre, description, or price), collaborative filtering assumes that if users agreed in the past (i.e., rated or interacted with items similarly), they will likely agree again in the future. It works by creating a user-item interaction matrix, such as ratings or purchase history, and then identifying patterns in this matrix. Based on these patterns, it recommends new items to a user by finding similarities in preferences between users or similarities between items. For instance, if User A and User B both liked the same two movies, and User A liked a third movie, collaborative filtering might recommend that third movie to User B.\n",
    "\n",
    "\n",
    "### 2. What is the difference between user-based and item-based collaborative filtering?\n",
    "The primary difference between user-based and item-based collaborative filtering lies in what the algorithm chooses to find similarities between. In user-based collaborative filtering, the system identifies users who are similar to the target user by comparing their preferences and interactions. The idea is that people with similar tastes tend to like the same items. Once similar users are found, the system recommends items that those users have liked, but the target user has not yet tried. In contrast, item-based collaborative filtering focuses on the relationships between items themselves. It finds items that are similar to what the user has previously interacted with or liked, and recommends those similar items. This approach assumes that if a user liked a particular item, they will likely enjoy similar ones. Item-based collaborative filtering tends to be more scalable and stable, especially when the number of users is large, because the similarity between items doesn't change as often as user preferences might."
   ]
  },
  {
   "cell_type": "code",
   "execution_count": null,
   "id": "193984d5-e79a-417a-a6f7-a68593090b10",
   "metadata": {},
   "outputs": [],
   "source": []
  }
 ],
 "metadata": {
  "kernelspec": {
   "display_name": "Python 3 (ipykernel)",
   "language": "python",
   "name": "python3"
  },
  "language_info": {
   "codemirror_mode": {
    "name": "ipython",
    "version": 3
   },
   "file_extension": ".py",
   "mimetype": "text/x-python",
   "name": "python",
   "nbconvert_exporter": "python",
   "pygments_lexer": "ipython3",
   "version": "3.11.7"
  }
 },
 "nbformat": 4,
 "nbformat_minor": 5
}
