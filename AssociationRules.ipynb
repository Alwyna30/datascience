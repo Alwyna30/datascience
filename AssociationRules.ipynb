{
 "cells": [
  {
   "cell_type": "code",
   "execution_count": 38,
   "id": "86d1d727-64f8-4bae-ae56-5d8e479a1e06",
   "metadata": {},
   "outputs": [
    {
     "name": "stdout",
     "output_type": "stream",
     "text": [
      "Collecting mlxtend==0.23.1\n",
      "  Downloading mlxtend-0.23.1-py3-none-any.whl.metadata (7.3 kB)\n",
      "Requirement already satisfied: scipy>=1.2.1 in c:\\users\\manisha chandanshiv\\anaconda3\\lib\\site-packages (from mlxtend==0.23.1) (1.11.4)\n",
      "Requirement already satisfied: numpy>=1.16.2 in c:\\users\\manisha chandanshiv\\anaconda3\\lib\\site-packages (from mlxtend==0.23.1) (1.26.4)\n",
      "Requirement already satisfied: pandas>=0.24.2 in c:\\users\\manisha chandanshiv\\anaconda3\\lib\\site-packages (from mlxtend==0.23.1) (1.5.3)\n",
      "Requirement already satisfied: scikit-learn>=1.0.2 in c:\\users\\manisha chandanshiv\\anaconda3\\lib\\site-packages (from mlxtend==0.23.1) (1.5.2)\n",
      "Requirement already satisfied: matplotlib>=3.0.0 in c:\\users\\manisha chandanshiv\\anaconda3\\lib\\site-packages (from mlxtend==0.23.1) (3.8.0)\n",
      "Requirement already satisfied: joblib>=0.13.2 in c:\\users\\manisha chandanshiv\\anaconda3\\lib\\site-packages (from mlxtend==0.23.1) (1.2.0)\n",
      "Requirement already satisfied: contourpy>=1.0.1 in c:\\users\\manisha chandanshiv\\anaconda3\\lib\\site-packages (from matplotlib>=3.0.0->mlxtend==0.23.1) (1.2.0)\n",
      "Requirement already satisfied: cycler>=0.10 in c:\\users\\manisha chandanshiv\\anaconda3\\lib\\site-packages (from matplotlib>=3.0.0->mlxtend==0.23.1) (0.11.0)\n",
      "Requirement already satisfied: fonttools>=4.22.0 in c:\\users\\manisha chandanshiv\\anaconda3\\lib\\site-packages (from matplotlib>=3.0.0->mlxtend==0.23.1) (4.25.0)\n",
      "Requirement already satisfied: kiwisolver>=1.0.1 in c:\\users\\manisha chandanshiv\\anaconda3\\lib\\site-packages (from matplotlib>=3.0.0->mlxtend==0.23.1) (1.4.4)\n",
      "Requirement already satisfied: packaging>=20.0 in c:\\users\\manisha chandanshiv\\anaconda3\\lib\\site-packages (from matplotlib>=3.0.0->mlxtend==0.23.1) (23.1)\n",
      "Requirement already satisfied: pillow>=6.2.0 in c:\\users\\manisha chandanshiv\\anaconda3\\lib\\site-packages (from matplotlib>=3.0.0->mlxtend==0.23.1) (10.2.0)\n",
      "Requirement already satisfied: pyparsing>=2.3.1 in c:\\users\\manisha chandanshiv\\anaconda3\\lib\\site-packages (from matplotlib>=3.0.0->mlxtend==0.23.1) (3.0.9)\n",
      "Requirement already satisfied: python-dateutil>=2.7 in c:\\users\\manisha chandanshiv\\anaconda3\\lib\\site-packages (from matplotlib>=3.0.0->mlxtend==0.23.1) (2.8.2)\n",
      "Requirement already satisfied: pytz>=2020.1 in c:\\users\\manisha chandanshiv\\anaconda3\\lib\\site-packages (from pandas>=0.24.2->mlxtend==0.23.1) (2023.3.post1)\n",
      "Requirement already satisfied: threadpoolctl>=3.1.0 in c:\\users\\manisha chandanshiv\\anaconda3\\lib\\site-packages (from scikit-learn>=1.0.2->mlxtend==0.23.1) (3.5.0)\n",
      "Requirement already satisfied: six>=1.5 in c:\\users\\manisha chandanshiv\\anaconda3\\lib\\site-packages (from python-dateutil>=2.7->matplotlib>=3.0.0->mlxtend==0.23.1) (1.16.0)\n",
      "Downloading mlxtend-0.23.1-py3-none-any.whl (1.4 MB)\n",
      "   ---------------------------------------- 0.0/1.4 MB ? eta -:--:--\n",
      "   ---------------------------------------- 0.0/1.4 MB ? eta -:--:--\n",
      "   ---------------------------------------- 0.0/1.4 MB ? eta -:--:--\n",
      "   ---------------------------------------- 0.0/1.4 MB ? eta -:--:--\n",
      "   ---------------------------------------- 0.0/1.4 MB ? eta -:--:--\n",
      "   ------- -------------------------------- 0.3/1.4 MB ? eta -:--:--\n",
      "   ------- -------------------------------- 0.3/1.4 MB ? eta -:--:--\n",
      "   ------- -------------------------------- 0.3/1.4 MB ? eta -:--:--\n",
      "   ------- -------------------------------- 0.3/1.4 MB ? eta -:--:--\n",
      "   -------------- ------------------------- 0.5/1.4 MB 310.6 kB/s eta 0:00:03\n",
      "   -------------- ------------------------- 0.5/1.4 MB 310.6 kB/s eta 0:00:03\n",
      "   -------------- ------------------------- 0.5/1.4 MB 310.6 kB/s eta 0:00:03\n",
      "   -------------- ------------------------- 0.5/1.4 MB 310.6 kB/s eta 0:00:03\n",
      "   --------------------- ------------------ 0.8/1.4 MB 325.6 kB/s eta 0:00:03\n",
      "   --------------------- ------------------ 0.8/1.4 MB 325.6 kB/s eta 0:00:03\n",
      "   --------------------- ------------------ 0.8/1.4 MB 325.6 kB/s eta 0:00:03\n",
      "   --------------------- ------------------ 0.8/1.4 MB 325.6 kB/s eta 0:00:03\n",
      "   ---------------------------- ----------- 1.0/1.4 MB 299.6 kB/s eta 0:00:02\n",
      "   ---------------------------- ----------- 1.0/1.4 MB 299.6 kB/s eta 0:00:02\n",
      "   ------------------------------------ --- 1.3/1.4 MB 358.9 kB/s eta 0:00:01\n",
      "   ---------------------------------------- 1.4/1.4 MB 365.4 kB/s eta 0:00:00\n",
      "Installing collected packages: mlxtend\n",
      "  Attempting uninstall: mlxtend\n",
      "    Found existing installation: mlxtend 0.23.3\n",
      "    Uninstalling mlxtend-0.23.3:\n",
      "      Successfully uninstalled mlxtend-0.23.3\n",
      "Successfully installed mlxtend-0.23.1\n"
     ]
    }
   ],
   "source": [
    "!pip install mlxtend==0.23.1\n"
   ]
  },
  {
   "cell_type": "code",
   "execution_count": 63,
   "id": "e8b9d04c-b268-48be-b1d1-a1a78bfa509a",
   "metadata": {},
   "outputs": [
    {
     "data": {
      "text/html": [
       "<div>\n",
       "<style scoped>\n",
       "    .dataframe tbody tr th:only-of-type {\n",
       "        vertical-align: middle;\n",
       "    }\n",
       "\n",
       "    .dataframe tbody tr th {\n",
       "        vertical-align: top;\n",
       "    }\n",
       "\n",
       "    .dataframe thead th {\n",
       "        text-align: right;\n",
       "    }\n",
       "</style>\n",
       "<table border=\"1\" class=\"dataframe\">\n",
       "  <thead>\n",
       "    <tr style=\"text-align: right;\">\n",
       "      <th></th>\n",
       "      <th>0</th>\n",
       "    </tr>\n",
       "  </thead>\n",
       "  <tbody>\n",
       "    <tr>\n",
       "      <th>0</th>\n",
       "      <td>shrimp,almonds,avocado,vegetables mix,green gr...</td>\n",
       "    </tr>\n",
       "    <tr>\n",
       "      <th>1</th>\n",
       "      <td>burgers,meatballs,eggs</td>\n",
       "    </tr>\n",
       "    <tr>\n",
       "      <th>2</th>\n",
       "      <td>chutney</td>\n",
       "    </tr>\n",
       "    <tr>\n",
       "      <th>3</th>\n",
       "      <td>turkey,avocado</td>\n",
       "    </tr>\n",
       "    <tr>\n",
       "      <th>4</th>\n",
       "      <td>mineral water,milk,energy bar,whole wheat rice...</td>\n",
       "    </tr>\n",
       "  </tbody>\n",
       "</table>\n",
       "</div>"
      ],
      "text/plain": [
       "                                                   0\n",
       "0  shrimp,almonds,avocado,vegetables mix,green gr...\n",
       "1                             burgers,meatballs,eggs\n",
       "2                                            chutney\n",
       "3                                     turkey,avocado\n",
       "4  mineral water,milk,energy bar,whole wheat rice..."
      ]
     },
     "execution_count": 63,
     "metadata": {},
     "output_type": "execute_result"
    }
   ],
   "source": [
    "import pandas as pd\n",
    "\n",
    "file_path = \"Online retail.xlsx\"\n",
    "df = pd.read_excel(file_path, header=None)\n",
    "df.head()\n"
   ]
  },
  {
   "cell_type": "code",
   "execution_count": 40,
   "id": "0145e79a-7f7d-40d1-aaea-ba0c56c1e178",
   "metadata": {},
   "outputs": [
    {
     "name": "stdout",
     "output_type": "stream",
     "text": [
      "Transaction 1: ['shrimp,almonds,avocado,vegetables mix,green grapes,whole weat flour,yams,cottage cheese,energy drink,tomato juice,low fat yogurt,green tea,honey,salad,mineral water,salmon,antioxydant juice,frozen smoothie,spinach,olive oil']\n",
      "Transaction 2: ['burgers,meatballs,eggs']\n",
      "Transaction 3: ['chutney']\n",
      "Transaction 4: ['turkey,avocado']\n",
      "Transaction 5: ['mineral water,milk,energy bar,whole wheat rice,green tea']\n"
     ]
    }
   ],
   "source": [
    "transactions = df.apply(lambda x: x.dropna().tolist(), axis=1).tolist()\n",
    "\n",
    "for i, transaction in enumerate(transactions[:5]):\n",
    "    print(f\"Transaction {i+1}: {transaction}\")"
   ]
  },
  {
   "cell_type": "code",
   "execution_count": 41,
   "id": "18c75771-d60f-4aa9-8216-515d080b9ad7",
   "metadata": {},
   "outputs": [],
   "source": [
    "from mlxtend.frequent_patterns import apriori, association_rules\n",
    "from mlxtend.preprocessing import TransactionEncoder\n",
    "\n",
    "te = TransactionEncoder()\n",
    "one_hot_encoded = te.fit(transactions).transform(transactions)\n",
    "df_encoded = pd.DataFrame(one_hot_encoded, columns=te.columns_)"
   ]
  },
  {
   "cell_type": "code",
   "execution_count": 42,
   "id": "a057d2b6-fd4f-4a3f-87f3-5d253114783e",
   "metadata": {},
   "outputs": [
    {
     "name": "stdout",
     "output_type": "stream",
     "text": [
      "Empty DataFrame\n",
      "Columns: [support, itemsets]\n",
      "Index: []\n"
     ]
    }
   ],
   "source": [
    "frequent_itemsets = apriori(df_encoded, min_support=0.05, use_colnames=True)\n",
    "print(frequent_itemsets)"
   ]
  },
  {
   "cell_type": "code",
   "execution_count": 43,
   "id": "5badc9a8-5e41-4126-9db1-b606f5487601",
   "metadata": {},
   "outputs": [
    {
     "name": "stdout",
     "output_type": "stream",
     "text": [
      "                                                   0\n",
      "0  shrimp,almonds,avocado,vegetables mix,green gr...\n",
      "1                             burgers,meatballs,eggs\n",
      "2                                            chutney\n",
      "3                                     turkey,avocado\n",
      "4  mineral water,milk,energy bar,whole wheat rice...\n",
      "5                                     low fat yogurt\n",
      "6                     whole wheat pasta,french fries\n",
      "7                           soup,light cream,shallot\n",
      "8              frozen vegetables,spaghetti,green tea\n",
      "9                                       french fries\n"
     ]
    }
   ],
   "source": [
    "import pandas as pd\n",
    "\n",
    "# Load dataset\n",
    "file_path = \"Online Retail dataset.csv\"\n",
    "df = pd.read_csv(file_path, header=None)\n",
    "\n",
    "# Print sample rows\n",
    "print(df.head(10))  # Check structure\n"
   ]
  },
  {
   "cell_type": "code",
   "execution_count": 44,
   "id": "9f9ea6e6-5009-4e34-afda-985f03ae73f4",
   "metadata": {},
   "outputs": [],
   "source": [
    "transactions = df[0].astype(str).str.split(\",\")"
   ]
  },
  {
   "cell_type": "code",
   "execution_count": 45,
   "id": "7e93f8b8-e0df-4af9-adfb-184b5f1fa808",
   "metadata": {},
   "outputs": [],
   "source": [
    "transactions = [[item.strip() for item in sublist] for sublist in transactions]\n"
   ]
  },
  {
   "cell_type": "code",
   "execution_count": 46,
   "id": "a325897a-cfc5-4477-a2e5-7bb129684224",
   "metadata": {},
   "outputs": [
    {
     "name": "stdout",
     "output_type": "stream",
     "text": [
      "[['shrimp', 'almonds', 'avocado', 'vegetables mix', 'green grapes', 'whole weat flour', 'yams', 'cottage cheese', 'energy drink', 'tomato juice', 'low fat yogurt', 'green tea', 'honey', 'salad', 'mineral water', 'salmon', 'antioxydant juice', 'frozen smoothie', 'spinach', 'olive oil'], ['burgers', 'meatballs', 'eggs'], ['chutney'], ['turkey', 'avocado'], ['mineral water', 'milk', 'energy bar', 'whole wheat rice', 'green tea']]\n"
     ]
    }
   ],
   "source": [
    "print(transactions[:5])  "
   ]
  },
  {
   "cell_type": "code",
   "execution_count": 47,
   "id": "9be20679-950e-4ecc-8fc8-e763d7b9b450",
   "metadata": {},
   "outputs": [],
   "source": [
    "from mlxtend.preprocessing import TransactionEncoder\n",
    "\n",
    "te = TransactionEncoder()\n",
    "one_hot_encoded = te.fit(transactions).transform(transactions)\n",
    "df_encoded = pd.DataFrame(one_hot_encoded, columns=te.columns_)\n",
    "\n"
   ]
  },
  {
   "cell_type": "code",
   "execution_count": 48,
   "id": "a96fcc30-759b-4203-b2b4-961b3c1a540b",
   "metadata": {},
   "outputs": [
    {
     "name": "stdout",
     "output_type": "stream",
     "text": [
      "   almonds  antioxydant juice  asparagus  avocado  babies food  bacon  \\\n",
      "0     True               True      False     True        False  False   \n",
      "1    False              False      False    False        False  False   \n",
      "2    False              False      False    False        False  False   \n",
      "3    False              False      False     True        False  False   \n",
      "4    False              False      False    False        False  False   \n",
      "\n",
      "   barbecue sauce  black tea  blueberries  body spray  ...  turkey  \\\n",
      "0           False      False        False       False  ...   False   \n",
      "1           False      False        False       False  ...   False   \n",
      "2           False      False        False       False  ...   False   \n",
      "3           False      False        False       False  ...    True   \n",
      "4           False      False        False       False  ...   False   \n",
      "\n",
      "   vegetables mix  water spray  white wine  whole weat flour  \\\n",
      "0            True        False       False              True   \n",
      "1           False        False       False             False   \n",
      "2           False        False       False             False   \n",
      "3           False        False       False             False   \n",
      "4           False        False       False             False   \n",
      "\n",
      "   whole wheat pasta  whole wheat rice   yams  yogurt cake  zucchini  \n",
      "0              False             False   True        False     False  \n",
      "1              False             False  False        False     False  \n",
      "2              False             False  False        False     False  \n",
      "3              False             False  False        False     False  \n",
      "4              False              True  False        False     False  \n",
      "\n",
      "[5 rows x 119 columns]\n"
     ]
    }
   ],
   "source": [
    "print(df_encoded.head())\n"
   ]
  },
  {
   "cell_type": "code",
   "execution_count": 49,
   "id": "56c44c6f-3116-44db-8fa3-0d5c9ef9c5d1",
   "metadata": {},
   "outputs": [
    {
     "name": "stdout",
     "output_type": "stream",
     "text": [
      "mineral water        1788\n",
      "eggs                 1348\n",
      "spaghetti            1306\n",
      "french fries         1282\n",
      "chocolate            1229\n",
      "green tea             991\n",
      "milk                  972\n",
      "ground beef           737\n",
      "frozen vegetables     715\n",
      "pancakes              713\n",
      "dtype: int64\n"
     ]
    }
   ],
   "source": [
    "print(df_encoded.sum().sort_values(ascending=False).head(10))\n"
   ]
  },
  {
   "cell_type": "code",
   "execution_count": null,
   "id": "6adae7c2-8c59-4f79-a123-1a3ee43eed78",
   "metadata": {},
   "outputs": [],
   "source": []
  },
  {
   "cell_type": "code",
   "execution_count": null,
   "id": "fe169924-2e5c-4470-ab1c-a4bb691b88b6",
   "metadata": {},
   "outputs": [],
   "source": [
    "from mlxtend.frequent_patterns import association_rules\n",
    "\n",
    "rules = association_rules(frequent_itemsets, metric=\"lift\", min_threshold=1.0)\n",
    "\n",
    "print(rules.head())"
   ]
  },
  {
   "cell_type": "code",
   "execution_count": null,
   "id": "a96ff5bb-5784-4012-bb3a-27de1aab4292",
   "metadata": {},
   "outputs": [],
   "source": []
  },
  {
   "cell_type": "code",
   "execution_count": 71,
   "id": "2258dce5-ff74-493d-aa1b-e7dc5750eb5b",
   "metadata": {},
   "outputs": [
    {
     "data": {
      "text/html": [
       "<div>\n",
       "<style scoped>\n",
       "    .dataframe tbody tr th:only-of-type {\n",
       "        vertical-align: middle;\n",
       "    }\n",
       "\n",
       "    .dataframe tbody tr th {\n",
       "        vertical-align: top;\n",
       "    }\n",
       "\n",
       "    .dataframe thead th {\n",
       "        text-align: right;\n",
       "    }\n",
       "</style>\n",
       "<table border=\"1\" class=\"dataframe\">\n",
       "  <thead>\n",
       "    <tr style=\"text-align: right;\">\n",
       "      <th></th>\n",
       "      <th>support</th>\n",
       "      <th>itemsets</th>\n",
       "    </tr>\n",
       "  </thead>\n",
       "  <tbody>\n",
       "  </tbody>\n",
       "</table>\n",
       "</div>"
      ],
      "text/plain": [
       "Empty DataFrame\n",
       "Columns: [support, itemsets]\n",
       "Index: []"
      ]
     },
     "execution_count": 71,
     "metadata": {},
     "output_type": "execute_result"
    }
   ],
   "source": [
    "import pandas as pd\n",
    "from mlxtend.preprocessing import TransactionEncoder\n",
    "from mlxtend.frequent_patterns import apriori, fpmax, fpgrowth\n",
    "\n",
    "\n",
    "dataset = \"Online Retail dataset.csv\"\n",
    "te = TransactionEncoder()\n",
    "te_ary = te.fit(dataset).transform(dataset)\n",
    "df = pd.DataFrame(te_ary, columns=te.columns_)\n",
    "\n",
    "frequent_itemsets = fpgrowth(df, min_support=0.6, use_colnames=True)\n",
    "\n",
    "frequent_itemsets"
   ]
  },
  {
   "cell_type": "code",
   "execution_count": null,
   "id": "38d58a3d-44a1-4ed7-b1a7-534ea54488cc",
   "metadata": {},
   "outputs": [],
   "source": [
    "from mlxtend.frequent_patterns import association_rules\n",
    "\n",
    "association_rules(frequent_itemsets, metric=\"confidence\", min_threshold=0.7)"
   ]
  },
  {
   "cell_type": "code",
   "execution_count": null,
   "id": "284161d0-c04b-4234-ab0e-bacef655126a",
   "metadata": {},
   "outputs": [],
   "source": []
  },
  {
   "cell_type": "code",
   "execution_count": null,
   "id": "6809558d-8e54-46b2-8ffb-c89c12dc7c54",
   "metadata": {},
   "outputs": [],
   "source": []
  },
  {
   "cell_type": "code",
   "execution_count": null,
   "id": "203eef6d-0a20-4851-8a81-7e294ba4e83d",
   "metadata": {},
   "outputs": [],
   "source": []
  },
  {
   "cell_type": "code",
   "execution_count": null,
   "id": "3ca295c7-4e5d-499d-b53b-28fdd7479a35",
   "metadata": {},
   "outputs": [],
   "source": []
  }
 ],
 "metadata": {
  "kernelspec": {
   "display_name": "Python 3 (ipykernel)",
   "language": "python",
   "name": "python3"
  },
  "language_info": {
   "codemirror_mode": {
    "name": "ipython",
    "version": 3
   },
   "file_extension": ".py",
   "mimetype": "text/x-python",
   "name": "python",
   "nbconvert_exporter": "python",
   "pygments_lexer": "ipython3",
   "version": "3.11.7"
  }
 },
 "nbformat": 4,
 "nbformat_minor": 5
}
