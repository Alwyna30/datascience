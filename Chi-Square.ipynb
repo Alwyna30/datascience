{
 "cells": [
  {
   "cell_type": "markdown",
   "id": "2a137a37-a226-41eb-9f51-c2415aac7f84",
   "metadata": {},
   "source": [
    "1. Hypotheses:\n",
    "\n",
    " Null Hypothesis (H0): There is no significant association between the type of smart home device and the customer satisfaction level. The distribution of                         satisfaction levels is independent of the device type.\n",
    "\n",
    " Alternative Hypothesis (H1): There is a significant association between the type of smart home device and the customer satisfaction level."
   ]
  },
  {
   "cell_type": "code",
   "execution_count": 2,
   "id": "bb12bf2a-5d31-4d1c-930e-214afcf3ecd2",
   "metadata": {
    "scrolled": true
   },
   "outputs": [
    {
     "name": "stdout",
     "output_type": "stream",
     "text": [
      "Chi-Square Statistic: 5.638227513227513\n",
      "Critical Value (alpha = 0.05): 9.487729036781154\n",
      "P-value: 0.22784371130697179\n",
      "Fail to reject the null hypothesis: No significant association between the device type and customer satisfaction.\n"
     ]
    }
   ],
   "source": [
    "import numpy as np\n",
    "import scipy.stats as stats\n",
    "\n",
    "# Given data\n",
    "observed = np.array([\n",
    "    [50, 70],  # Very Satisfied\n",
    "    [80, 100], # Satisfied\n",
    "    [60, 90],  # Neutral\n",
    "    [30, 50],  # Unsatisfied\n",
    "    [20, 50]   # Very Unsatisfied\n",
    "])\n",
    "\n",
    "# Total counts for rows and columns\n",
    "row_totals = observed.sum(axis=1)\n",
    "col_totals = observed.sum(axis=0)\n",
    "grand_total = observed.sum()\n",
    "\n",
    "# Calculate expected frequencies\n",
    "expected = np.outer(row_totals, col_totals) / grand_total\n",
    "\n",
    "# Compute the Chi-Square statistic\n",
    "chi_square_stat = ((observed - expected) ** 2 / expected).sum()\n",
    "\n",
    "# Degrees of freedom\n",
    "degrees_of_freedom = (observed.shape[0] - 1) * (observed.shape[1] - 1)\n",
    "\n",
    "# Critical value for chi-square distribution with significance level 0.05\n",
    "alpha = 0.05\n",
    "critical_value = stats.chi2.ppf(1 - alpha, degrees_of_freedom)\n",
    "\n",
    "# P-value\n",
    "p_value = 1 - stats.chi2.cdf(chi_square_stat, degrees_of_freedom)\n",
    "\n",
    "# Print results\n",
    "print(f\"Chi-Square Statistic: {chi_square_stat}\")\n",
    "print(f\"Critical Value (alpha = {alpha}): {critical_value}\")\n",
    "print(f\"P-value: {p_value}\")\n",
    "\n",
    "# Decision\n",
    "if chi_square_stat > critical_value:\n",
    "    print(\"Reject the null hypothesis: There is a significant association between the device type and customer satisfaction.\")\n",
    "else:\n",
    "    print(\"Fail to reject the null hypothesis: No significant association between the device type and customer satisfaction.\")\n"
   ]
  },
  {
   "cell_type": "markdown",
   "id": "ac7c9251-5831-4ff9-9a31-7692d2338ffd",
   "metadata": {},
   "source": [
    "Critical Value (α = 0.05): 9.488"
   ]
  },
  {
   "cell_type": "code",
   "execution_count": null,
   "id": "88312764-fbd3-4657-8450-21cb5bc6958b",
   "metadata": {},
   "outputs": [],
   "source": []
  }
 ],
 "metadata": {
  "kernelspec": {
   "display_name": "Python 3 (ipykernel)",
   "language": "python",
   "name": "python3"
  },
  "language_info": {
   "codemirror_mode": {
    "name": "ipython",
    "version": 3
   },
   "file_extension": ".py",
   "mimetype": "text/x-python",
   "name": "python",
   "nbconvert_exporter": "python",
   "pygments_lexer": "ipython3",
   "version": "3.11.7"
  }
 },
 "nbformat": 4,
 "nbformat_minor": 5
}
